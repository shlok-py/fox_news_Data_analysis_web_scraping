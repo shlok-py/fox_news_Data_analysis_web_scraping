{
  "nbformat": 4,
  "nbformat_minor": 0,
  "metadata": {
    "colab": {
      "provenance": [],
      "authorship_tag": "ABX9TyPQAB7ZsseHJwmfik6zExK2",
      "include_colab_link": true
    },
    "kernelspec": {
      "name": "python3",
      "display_name": "Python 3"
    },
    "language_info": {
      "name": "python"
    }
  },
  "cells": [
    {
      "cell_type": "markdown",
      "metadata": {
        "id": "view-in-github",
        "colab_type": "text"
      },
      "source": [
        "<a href=\"https://colab.research.google.com/github/shlok-py/fox_news_Data_analysis_web_scraping/blob/main/web_scraping_and_data_anal.ipynb\" target=\"_parent\"><img src=\"https://colab.research.google.com/assets/colab-badge.svg\" alt=\"Open In Colab\"/></a>"
      ]
    },
    {
      "cell_type": "markdown",
      "source": [
        "In this program \"*web_Scraping_and_data_anal.py*\" I scraped out some key data from foxnews.com and did data analysis on its news, sentimental analysis, frequency analysis and many more.\n",
        "Now, let's begin this.\n",
        "\n",
        "# STEP 1. Importing Dependencies\n"
      ],
      "metadata": {
        "id": "Ys6bAkkfYpZD"
      }
    },
    {
      "cell_type": "code",
      "source": [
        "from bs4 import BeautifulSoup\n",
        "import requests"
      ],
      "metadata": {
        "id": "jYiTqoZLZ0u9"
      },
      "execution_count": 1,
      "outputs": []
    },
    {
      "cell_type": "markdown",
      "source": [
        "## 1.2 Giving the static URL \n",
        "And using request response to get the html"
      ],
      "metadata": {
        "id": "hsKc3N88ZhgX"
      }
    },
    {
      "cell_type": "code",
      "source": [
        "url = \"https://www.foxnews.com/\"\n",
        "response = requests.get(url).text"
      ],
      "metadata": {
        "id": "MH1N77ISwvLi"
      },
      "execution_count": 2,
      "outputs": []
    },
    {
      "cell_type": "markdown",
      "source": [
        "## 1.3 Parsing response using html.parser"
      ],
      "metadata": {
        "id": "woFui6yQZ1aK"
      }
    },
    {
      "cell_type": "code",
      "source": [
        "soup = BeautifulSoup(response, 'html.parser')"
      ],
      "metadata": {
        "id": "OvA7SNkuaxIF"
      },
      "execution_count": 3,
      "outputs": []
    },
    {
      "cell_type": "markdown",
      "source": [
        "## 1.4 checking if the code works using soup.title"
      ],
      "metadata": {
        "id": "BflDPM0JaTyO"
      }
    },
    {
      "cell_type": "code",
      "source": [
        "soup.title"
      ],
      "metadata": {
        "id": "LH4fR5sMa_Vn",
        "colab": {
          "base_uri": "https://localhost:8080/"
        },
        "outputId": "af606c33-155b-4c96-87ec-6f37984f8e58"
      },
      "execution_count": 4,
      "outputs": [
        {
          "output_type": "execute_result",
          "data": {
            "text/plain": [
              "<title>Fox News - Breaking News Updates | Latest News Headlines | Photos &amp; News Videos</title>"
            ]
          },
          "metadata": {},
          "execution_count": 4
        }
      ]
    },
    {
      "cell_type": "markdown",
      "source": [
        "#STEP 2. Scrape the title from the homepage from foxnews.com"
      ],
      "metadata": {
        "id": "OYHTiunVaaZ2"
      }
    },
    {
      "cell_type": "code",
      "source": [
        "#scrape the title\n",
        "titles = soup.find_all('h3', class_= 'title')\n",
        "news_titles = []\n",
        "for title in titles:\n",
        "    anchor_tag = title.find('a')\n",
        "    if anchor_tag == None:\n",
        "      news_titles.append(None)\n",
        "      continue\n",
        "    print(anchor_tag.text.strip())\n",
        "    news_titles.append(anchor_tag.text.strip())"
      ],
      "metadata": {
        "id": "le73zpCSw-B3"
      },
      "execution_count": null,
      "outputs": []
    },
    {
      "cell_type": "markdown",
      "source": [
        "#STEP 3. Scrape the URL from the homepage from foxnews.com"
      ],
      "metadata": {
        "id": "EydUcDSLakFT"
      }
    },
    {
      "cell_type": "code",
      "source": [
        "#scrpe the url\n",
        "urls = []\n",
        "for link in titles:\n",
        "  url = link.find('a')\n",
        "  if url == None:\n",
        "    urls.append(None)\n",
        "    continue\n",
        "  urls.append(url['href'])\n",
        "for i in range(len(urls)):\n",
        "  if urls[i]!=None:\n",
        "    if not urls[i].startswith('https:'):\n",
        "      urls[i] = 'https:' + urls[i]\n",
        "urls"
      ],
      "metadata": {
        "id": "6CxZQDWk7MS0"
      },
      "execution_count": null,
      "outputs": []
    },
    {
      "cell_type": "markdown",
      "source": [
        "# STEP 4: Scrape the news Corpus"
      ],
      "metadata": {
        "id": "zg3LjZveapn1"
      }
    },
    {
      "cell_type": "code",
      "source": [
        "#scrape the news corpus\n",
        "art_text = []\n",
        "for url in urls:\n",
        "  try:\n",
        "    response = requests.get(url).text\n",
        "    f_texts = BeautifulSoup(response, 'html.parser')\n",
        "    main_text = f_texts.find('div', class_='article-body')\n",
        "    if main_text == None:\n",
        "      art_text.append(None)\n",
        "      continue\n",
        "    article_text = main_text.get_text()\n",
        "    print(article_text.strip())\n",
        "    art_text.append(article_text.strip())\n",
        "  except requests.exceptions.RequestException as e:\n",
        "    # Handle the exception (e.g. log an error message, skip the URL, etc.)\n",
        "    print(f'Error while requesting {url}: {e}')\n",
        "    art_text.append(None)\n",
        "    continue\n",
        "len(art_text)"
      ],
      "metadata": {
        "id": "r1gnlj3_7OAO"
      },
      "execution_count": null,
      "outputs": []
    },
    {
      "cell_type": "markdown",
      "source": [
        "# STEP 5: Scrape the news category"
      ],
      "metadata": {
        "id": "eaCh3dYBa9Qg"
      }
    },
    {
      "cell_type": "code",
      "source": [
        "#find the news category\n",
        "from urllib.parse import urlparse\n",
        "news_cat = []\n",
        "for url in urls:\n",
        "  url_parts = urlparse(url)\n",
        "  print(url)\n",
        "  if url == None:\n",
        "    news_cat.append(None)\n",
        "    continue\n",
        "  path_parts = url_parts.path.split('/')\n",
        "  category = path_parts[1] if len(path_parts) > 1 else ' '\n",
        "  news_cat.append(category)"
      ],
      "metadata": {
        "id": "v3VplfEcMac7"
      },
      "execution_count": null,
      "outputs": []
    },
    {
      "cell_type": "markdown",
      "source": [
        "# STEP 6: Scrape Authors Name"
      ],
      "metadata": {
        "id": "LaBO8HYIbEJe"
      }
    },
    {
      "cell_type": "code",
      "source": [
        "#scraping the authors\n",
        "author_names = []\n",
        "for url in urls:\n",
        "  if url == None:\n",
        "    author_names.append(None)\n",
        "    continue\n",
        "  response = requests.get(url)\n",
        "\n",
        "  soup = BeautifulSoup(response.text, 'html.parser')\n",
        "\n",
        "  # Find the element containing the author name\n",
        "  author_element = soup.find('a', class_='author-byline')\n",
        "  if author_element:\n",
        "      # Extract the author name from the element\n",
        "      author_name = author_element.text.strip()\n",
        "      author_names.append(author_name)\n",
        "  else:\n",
        "      # If the author element is not found, set the author name to an empty string\n",
        "      author_name = ''\n",
        "      author_names.append(author_name)"
      ],
      "metadata": {
        "id": "97ZJR_O1OudW"
      },
      "execution_count": 9,
      "outputs": []
    },
    {
      "cell_type": "markdown",
      "source": [
        "# STEP 7: Scrape date and time"
      ],
      "metadata": {
        "id": "-eESwpFuNc8x"
      }
    },
    {
      "cell_type": "code",
      "source": [
        "# Scrape the time and date\n",
        "time = []\n",
        "for url in urls:\n",
        "  if url == None:\n",
        "    time.append(None)\n",
        "    continue\n",
        "  response = requests.get(url)\n",
        "  soup = BeautifulSoup(response.text, 'html.parser')\n",
        "  news_dates = soup.find('time')\n",
        "  if news_dates == None:\n",
        "    time.append(None)\n",
        "    continue\n",
        "  time.append(news_dates.get_text())\n",
        "print(time)\n"
      ],
      "metadata": {
        "colab": {
          "base_uri": "https://localhost:8080/"
        },
        "id": "v90uSXiJbr-2",
        "outputId": "46b25a5e-4a42-483f-8998-76b00b10240a"
      },
      "execution_count": 30,
      "outputs": [
        {
          "output_type": "stream",
          "name": "stdout",
          "text": [
            "[' March 19, 2023 9:59pm EDT', ' March 19, 2023 8:50pm EDT', ' March 19, 2023 6:16pm EDT', ' March 19, 2023 7:58pm EDT', ' March 19, 2023 8:04pm EDT', ' March 19, 2023 5:18pm EDT', ' March 19, 2023 3:45pm EDT', ' March 19, 2023 2:58pm EDT', ' March 20, 2023 12:03am EDT', ' March 19, 2023 3:54pm EDT', None, None, None, ' March 19, 2023 7:34pm EDT', ' March 19, 2023 4:56pm EDT', ' March 19, 2023 10:42am EDT', ' March 19, 2023 3:44pm EDT', ' March 19, 2023 4:00pm EDT', 'Published March 19, 2023 4:38pm EDT\\n        ', ' March 19, 2023 8:08pm EDT', ' March 19, 2023 12:46pm EDT', ' March 19, 2023 2:47pm EDT', ' March 19, 2023 10:28pm EDT', ' March 19, 2023 9:35pm EDT', ' March 19, 2023 9:55pm EDT', ' March 19, 2023 11:49pm EDT', 'Published March 19, 2023 11:26am EDT\\n        ', ' March 19, 2023 9:50pm EDT', ' March 19, 2023 5:17pm EDT', ' March 19, 2023 9:44pm EDT', ' March 19, 2023 4:22pm EDT', ' March 19, 2023 2:54pm EDT', ' March 19, 2023 9:11pm EDT', ' March 19, 2023 11:44am EDT', 'March 19, 2023', 'March 19, 2023', ' March 19, 2023 9:19pm EDT', ' March 17, 2023 2:00am EDT', ' March 20, 2023 12:02am EDT', '18 hours ago', None, ' March 19, 2023 7:30am EDT', ' March 19, 2023 5:30am EDT', ' March 18, 2023 12:00pm EDT', ' March 18, 2023 8:00am EDT', ' March 19, 2023 1:12pm EDT', ' March 18, 2023 9:00pm EDT', ' March 17, 2023 3:32pm EDT', ' March 17, 2023 2:17pm EDT', ' March 19, 2023 9:56pm EDT', ' March 19, 2023 8:50pm EDT', ' March 19, 2023 2:00pm EDT', ' March 19, 2023 12:00pm EDT', ' March 20, 2023 12:02am EDT', ' March 19, 2023 9:55pm EDT', ' March 19, 2023 8:04pm EDT', ' March 19, 2023 3:05pm EDT', ' March 19, 2023 4:22pm EDT', ' March 19, 2023 11:00am EDT', ' March 19, 2023 7:30am EDT', ' March 18, 2023 2:58pm EDT', ' March 19, 2023 9:35pm EDT', ' March 19, 2023 8:50pm EDT', ' March 19, 2023 7:34pm EDT', ' March 19, 2023 4:56pm EDT', ' March 19, 2023 9:00am EDT', ' March 19, 2023 8:00am EDT', ' March 18, 2023 10:00am EDT', ' March 18, 2023 9:00am EDT', ' March 19, 2023 3:19pm EDT', ' March 19, 2023 12:46pm EDT', ' March 18, 2023 5:36pm EDT', ' March 18, 2023 12:43pm EDT', ' March 20, 2023 12:03am EDT', ' March 19, 2023 9:19pm EDT', ' March 19, 2023 7:55pm EDT', ' March 19, 2023 5:48pm EDT', ' February 24, 2023 7:15am EST', ' February 2, 2023 11:08am EST', ' January 17, 2023 4:40pm EST', ' January 17, 2023 4:00am EST', ' March 19, 2023 6:11pm EDT', ' March 19, 2023 12:46pm EDT', ' March 19, 2023 8:00am EDT', ' March 19, 2023 5:39am EDT', ' March 19, 2023 11:49pm EDT', ' March 19, 2023 8:08pm EDT', ' March 19, 2023 6:14pm EDT', ' March 19, 2023 5:11pm EDT', ' March 20, 2023 12:31am EDT', ' March 19, 2023 11:39pm EDT', ' March 19, 2023 10:28pm EDT', ' March 19, 2023 10:04pm EDT', ' March 20, 2023 12:03am EDT', ' March 19, 2023 9:44pm EDT', ' March 19, 2023 9:19pm EDT', ' March 19, 2023 9:11pm EDT', ' March 19, 2023 9:00am EDT', ' March 19, 2023 8:00am EDT', ' March 18, 2023 5:36pm EDT', ' March 18, 2023 1:56pm EDT', 'Published March 18, 2023 7:00am EDT\\n        ', 'Published March 17, 2023 3:43pm EDT\\n        ', 'Published March 17, 2023 11:17am EDT\\n        ', 'Published March 17, 2023 9:48am EDT\\n        ', ' March 19, 2023 3:18pm EDT', ' March 19, 2023 9:27am EDT', ' March 19, 2023 9:04am EDT', ' March 18, 2023 1:11pm EDT', ' March 19, 2023 11:49pm EDT', ' March 19, 2023 6:14pm EDT', ' March 19, 2023 5:11pm EDT', ' March 19, 2023 4:25pm EDT', 'Published March 19, 2023 8:11pm EDT\\n        ', 'Published March 19, 2023 7:06pm EDT\\n        ', 'Published March 19, 2023 6:55pm EDT\\n        ', 'Published March 19, 2023 6:17pm EDT\\n        ', ' March 19, 2023 9:00am EDT', ' March 19, 2023 8:00am EDT', ' March 18, 2023 6:00pm EDT', ' March 18, 2023 5:36pm EDT', ' March 19, 2023 7:02pm EDT', ' March 19, 2023 4:00pm EDT', ' March 19, 2023 3:54pm EDT', ' March 19, 2023 2:30pm EDT', ' March 19, 2023 12:54pm EDT', ' March 19, 2023 9:00am EDT', ' March 18, 2023 9:59pm EDT', ' March 18, 2023 9:41pm EDT', ' March 19, 2023 8:08pm EDT', ' March 19, 2023 6:14pm EDT', ' March 19, 2023 12:02am EDT', ' March 18, 2023 11:44pm EDT', ' March 7, 2023 10:11am EST', ' February 21, 2023 12:35pm EST', ' February 14, 2023 4:05pm EST', ' February 13, 2023 7:23am EST', '\\n        March 19, 2023 9:00pm EDT\\n      ', '\\n        March 19, 2023 8:28pm EDT\\n      ', '\\n        March 19, 2023 7:50pm EDT\\n      ', '\\n        March 19, 2023 1:12pm EDT\\n      ', ' March 19, 2023 1:05pm EDT', ' March 19, 2023 10:51am EDT', ' March 17, 2023 2:48pm EDT', ' March 17, 2023 1:15pm EDT', 'March 20, 2023', 'March 19, 2023', 'March 19, 2023', 'March 19, 2023', ' March 19, 2023 9:00am EDT', ' March 19, 2023 8:00am EDT', ' March 18, 2023 9:59pm EDT', ' March 18, 2023 2:00pm EDT']\n"
          ]
        }
      ]
    },
    {
      "cell_type": "markdown",
      "source": [
        "# STEP 8: Convert everything into pandas DataFrame"
      ],
      "metadata": {
        "id": "vYDHwbyzbIW0"
      }
    },
    {
      "cell_type": "code",
      "source": [
        "import pandas as pd\n",
        "news_data = pd.DataFrame({\n",
        "    \"Title\": news_titles,\n",
        "    \"Link\": urls,\n",
        "    \"Corpus\": art_text,\n",
        "    \"category\": news_cat,\n",
        "    \"author\": author_names,\n",
        "    \"timeanddate\": time,\n",
        "})\n",
        "news_data.dropna(how='any', inplace=True)"
      ],
      "metadata": {
        "id": "W1BgaPxf-GJj"
      },
      "execution_count": 11,
      "outputs": []
    },
    {
      "cell_type": "markdown",
      "source": [
        "# STEP 9: Sentimental Analysis\n",
        "### download nltk dependencies"
      ],
      "metadata": {
        "id": "-GaJHFxPdfD3"
      }
    },
    {
      "cell_type": "code",
      "source": [
        "import nltk\n",
        "from nltk.corpus import stopwords\n",
        "from nltk.tokenize import word_tokenize\n",
        "\n",
        "# Download stop words\n",
        "nltk.download('stopwords')"
      ],
      "metadata": {
        "id": "NPocVa4bR313",
        "colab": {
          "base_uri": "https://localhost:8080/"
        },
        "outputId": "71cd4967-442f-4a97-f9fe-c387155196e6"
      },
      "execution_count": 12,
      "outputs": [
        {
          "output_type": "stream",
          "name": "stderr",
          "text": [
            "[nltk_data] Downloading package stopwords to /root/nltk_data...\n",
            "[nltk_data]   Unzipping corpora/stopwords.zip.\n"
          ]
        },
        {
          "output_type": "execute_result",
          "data": {
            "text/plain": [
              "True"
            ]
          },
          "metadata": {},
          "execution_count": 12
        }
      ]
    },
    {
      "cell_type": "code",
      "source": [
        "import nltk\n",
        "nltk.download('punkt')"
      ],
      "metadata": {
        "colab": {
          "base_uri": "https://localhost:8080/"
        },
        "id": "KSSHIT1EbQEP",
        "outputId": "f78fa6f0-eed8-4335-d83b-5fe34a7ebed5"
      },
      "execution_count": 13,
      "outputs": [
        {
          "output_type": "stream",
          "name": "stderr",
          "text": [
            "[nltk_data] Downloading package punkt to /root/nltk_data...\n",
            "[nltk_data]   Unzipping tokenizers/punkt.zip.\n"
          ]
        },
        {
          "output_type": "execute_result",
          "data": {
            "text/plain": [
              "True"
            ]
          },
          "metadata": {},
          "execution_count": 13
        }
      ]
    },
    {
      "cell_type": "markdown",
      "source": [
        "## 9.1 Remove Stopwords and uneccessary words from the corpus"
      ],
      "metadata": {
        "id": "5Xx4CsNvNyMM"
      }
    },
    {
      "cell_type": "code",
      "source": [
        "# setting up stopwords with some additional stop words\n",
        "stop_words = set(stopwords.words('english'))\n",
        "stop_words.update(['close', 2, ':', 3, 'video', 'fox news', 'flash', 'top', 'headlines', \".\", \",\", \"news\", \"fox\",\"?\", \";\", \"(\", \")\", \"-\", \"!\", \"@\", \"#\",\"$\",\"%\",\"^\",\"&\",\"*\", \"also\", \"march\", \"get\", \"one\", \"``\", \"'\", \"said\", \"new\", \"two\", \"'s\", 'would', \"n't\", 'first', '~', '’', '‘', 'told', 'images','according', 'years', 'like'])\n",
        "\n",
        "# Define function to remove stop words\n",
        "def remove_stopwords(text):\n",
        "    if text != None:\n",
        "      tokens = word_tokenize(text.lower())\n",
        "      filtered_tokens = [word for word in tokens if word not in stop_words]\n",
        "      return ' '.join(filtered_tokens)\n",
        "\n",
        "# Apply function to 'corpus' column\n",
        "news_data['Corpus'] = news_data['Corpus'].apply(remove_stopwords)"
      ],
      "metadata": {
        "id": "fd7PlqBcawSn"
      },
      "execution_count": 134,
      "outputs": []
    },
    {
      "cell_type": "markdown",
      "source": [
        "### See the new Corpus"
      ],
      "metadata": {
        "id": "c1-tMY6lN12y"
      }
    },
    {
      "cell_type": "code",
      "source": [
        "news_data[\"Corpus\"]"
      ],
      "metadata": {
        "colab": {
          "base_uri": "https://localhost:8080/"
        },
        "id": "VAk4sF0QdnCf",
        "outputId": "8d9cdcc6-cf45-4f94-8360-4177db1435da"
      },
      "execution_count": 135,
      "outputs": [
        {
          "output_type": "execute_result",
          "data": {
            "text/plain": [
              "0      watch security footage appears show mexican mi...\n",
              "1      north korean defectors honor otto warmbier kim...\n",
              "2      nfl uncharted waters following damar hamlin co...\n",
              "3      objective parent knows children belong drag sh...\n",
              "4      kilmeade biden admin perfects blame game host ...\n",
              "                             ...                        \n",
              "144    good samaritan helped stop gym attacker good s...\n",
              "149    15 check clicking foxnews.com.a 208 million mu...\n",
              "150    15 check clicking foxnews.com.as smallest grou...\n",
              "151    turkey earthquake captured dashcam dashcam cap...\n",
              "152    15 check clicking foxnews.com.in front empty d...\n",
              "Name: Corpus, Length: 142, dtype: object"
            ]
          },
          "metadata": {},
          "execution_count": 135
        }
      ]
    },
    {
      "cell_type": "markdown",
      "source": [
        "## 9.2 Sentiment Analysis\n",
        "### Positive Negative or Neutral\n",
        "### Doing sentiment analysis of news corpus and keeping the analysis report in a new column ***news_data['sentiment']***"
      ],
      "metadata": {
        "id": "NL2nvsWLfpcv"
      }
    },
    {
      "cell_type": "code",
      "source": [
        "from textblob import TextBlob\n",
        "def get_sentiment(text):\n",
        "    blob = TextBlob(text)\n",
        "    sentiment_score = blob.sentiment.polarity\n",
        "    if sentiment_score > 0:\n",
        "        return 'positive'\n",
        "    elif sentiment_score < 0:\n",
        "        return 'negative'\n",
        "    else:\n",
        "        return 'neutral'\n",
        "news_data['sentiment'] = news_data['Corpus'].apply(get_sentiment)"
      ],
      "metadata": {
        "id": "SCJZBjlZfrlR"
      },
      "execution_count": 136,
      "outputs": []
    },
    {
      "cell_type": "markdown",
      "source": [
        "#### Visualising dataframe"
      ],
      "metadata": {
        "id": "AIIkJtIIyrAi"
      }
    },
    {
      "cell_type": "code",
      "source": [
        "news_data.head()"
      ],
      "metadata": {
        "colab": {
          "base_uri": "https://localhost:8080/",
          "height": 458
        },
        "id": "DXk7FPkTgNN3",
        "outputId": "2e333651-1308-4256-805f-1b39b92e0ceb"
      },
      "execution_count": 137,
      "outputs": [
        {
          "output_type": "execute_result",
          "data": {
            "text/plain": [
              "                                               Title  \\\n",
              "0  US company outraged after Mexican military, po...   \n",
              "1  Dictator Kim Jong Un calls on North Korean mil...   \n",
              "2  Terrifying clip of meteorologist collapsing on...   \n",
              "3  Blue state's attorney general hosts city's fir...   \n",
              "4  Twitter users don’t let Biden get away with du...   \n",
              "\n",
              "                                                Link  \\\n",
              "0  https://www.foxnews.com/politics/american-comp...   \n",
              "1  https://www.foxnews.com/world/north-koreas-kim...   \n",
              "2  https://www.foxnews.com/media/terrifying-clip-...   \n",
              "3  https://www.foxnews.com/media/new-york-ag-leti...   \n",
              "4  https://www.foxnews.com/politics/bidens-twitte...   \n",
              "\n",
              "                                              Corpus  category author  \\\n",
              "0  watch security footage appears show mexican mi...  politics          \n",
              "1  north korean defectors honor otto warmbier kim...     world          \n",
              "2  nfl uncharted waters following damar hamlin co...     media          \n",
              "3  objective parent knows children belong drag sh...     media          \n",
              "4  kilmeade biden admin perfects blame game host ...  politics          \n",
              "\n",
              "                  timeanddate sentiment  \n",
              "0   March 19, 2023 9:59pm EDT  negative  \n",
              "1   March 19, 2023 8:50pm EDT  positive  \n",
              "2   March 19, 2023 6:16pm EDT  positive  \n",
              "3   March 19, 2023 7:58pm EDT  positive  \n",
              "4   March 19, 2023 8:04pm EDT  positive  "
            ],
            "text/html": [
              "\n",
              "  <div id=\"df-b99c74ed-7c63-4862-a8bc-07a7fc6efeb3\">\n",
              "    <div class=\"colab-df-container\">\n",
              "      <div>\n",
              "<style scoped>\n",
              "    .dataframe tbody tr th:only-of-type {\n",
              "        vertical-align: middle;\n",
              "    }\n",
              "\n",
              "    .dataframe tbody tr th {\n",
              "        vertical-align: top;\n",
              "    }\n",
              "\n",
              "    .dataframe thead th {\n",
              "        text-align: right;\n",
              "    }\n",
              "</style>\n",
              "<table border=\"1\" class=\"dataframe\">\n",
              "  <thead>\n",
              "    <tr style=\"text-align: right;\">\n",
              "      <th></th>\n",
              "      <th>Title</th>\n",
              "      <th>Link</th>\n",
              "      <th>Corpus</th>\n",
              "      <th>category</th>\n",
              "      <th>author</th>\n",
              "      <th>timeanddate</th>\n",
              "      <th>sentiment</th>\n",
              "    </tr>\n",
              "  </thead>\n",
              "  <tbody>\n",
              "    <tr>\n",
              "      <th>0</th>\n",
              "      <td>US company outraged after Mexican military, po...</td>\n",
              "      <td>https://www.foxnews.com/politics/american-comp...</td>\n",
              "      <td>watch security footage appears show mexican mi...</td>\n",
              "      <td>politics</td>\n",
              "      <td></td>\n",
              "      <td>March 19, 2023 9:59pm EDT</td>\n",
              "      <td>negative</td>\n",
              "    </tr>\n",
              "    <tr>\n",
              "      <th>1</th>\n",
              "      <td>Dictator Kim Jong Un calls on North Korean mil...</td>\n",
              "      <td>https://www.foxnews.com/world/north-koreas-kim...</td>\n",
              "      <td>north korean defectors honor otto warmbier kim...</td>\n",
              "      <td>world</td>\n",
              "      <td></td>\n",
              "      <td>March 19, 2023 8:50pm EDT</td>\n",
              "      <td>positive</td>\n",
              "    </tr>\n",
              "    <tr>\n",
              "      <th>2</th>\n",
              "      <td>Terrifying clip of meteorologist collapsing on...</td>\n",
              "      <td>https://www.foxnews.com/media/terrifying-clip-...</td>\n",
              "      <td>nfl uncharted waters following damar hamlin co...</td>\n",
              "      <td>media</td>\n",
              "      <td></td>\n",
              "      <td>March 19, 2023 6:16pm EDT</td>\n",
              "      <td>positive</td>\n",
              "    </tr>\n",
              "    <tr>\n",
              "      <th>3</th>\n",
              "      <td>Blue state's attorney general hosts city's fir...</td>\n",
              "      <td>https://www.foxnews.com/media/new-york-ag-leti...</td>\n",
              "      <td>objective parent knows children belong drag sh...</td>\n",
              "      <td>media</td>\n",
              "      <td></td>\n",
              "      <td>March 19, 2023 7:58pm EDT</td>\n",
              "      <td>positive</td>\n",
              "    </tr>\n",
              "    <tr>\n",
              "      <th>4</th>\n",
              "      <td>Twitter users don’t let Biden get away with du...</td>\n",
              "      <td>https://www.foxnews.com/politics/bidens-twitte...</td>\n",
              "      <td>kilmeade biden admin perfects blame game host ...</td>\n",
              "      <td>politics</td>\n",
              "      <td></td>\n",
              "      <td>March 19, 2023 8:04pm EDT</td>\n",
              "      <td>positive</td>\n",
              "    </tr>\n",
              "  </tbody>\n",
              "</table>\n",
              "</div>\n",
              "      <button class=\"colab-df-convert\" onclick=\"convertToInteractive('df-b99c74ed-7c63-4862-a8bc-07a7fc6efeb3')\"\n",
              "              title=\"Convert this dataframe to an interactive table.\"\n",
              "              style=\"display:none;\">\n",
              "        \n",
              "  <svg xmlns=\"http://www.w3.org/2000/svg\" height=\"24px\"viewBox=\"0 0 24 24\"\n",
              "       width=\"24px\">\n",
              "    <path d=\"M0 0h24v24H0V0z\" fill=\"none\"/>\n",
              "    <path d=\"M18.56 5.44l.94 2.06.94-2.06 2.06-.94-2.06-.94-.94-2.06-.94 2.06-2.06.94zm-11 1L8.5 8.5l.94-2.06 2.06-.94-2.06-.94L8.5 2.5l-.94 2.06-2.06.94zm10 10l.94 2.06.94-2.06 2.06-.94-2.06-.94-.94-2.06-.94 2.06-2.06.94z\"/><path d=\"M17.41 7.96l-1.37-1.37c-.4-.4-.92-.59-1.43-.59-.52 0-1.04.2-1.43.59L10.3 9.45l-7.72 7.72c-.78.78-.78 2.05 0 2.83L4 21.41c.39.39.9.59 1.41.59.51 0 1.02-.2 1.41-.59l7.78-7.78 2.81-2.81c.8-.78.8-2.07 0-2.86zM5.41 20L4 18.59l7.72-7.72 1.47 1.35L5.41 20z\"/>\n",
              "  </svg>\n",
              "      </button>\n",
              "      \n",
              "  <style>\n",
              "    .colab-df-container {\n",
              "      display:flex;\n",
              "      flex-wrap:wrap;\n",
              "      gap: 12px;\n",
              "    }\n",
              "\n",
              "    .colab-df-convert {\n",
              "      background-color: #E8F0FE;\n",
              "      border: none;\n",
              "      border-radius: 50%;\n",
              "      cursor: pointer;\n",
              "      display: none;\n",
              "      fill: #1967D2;\n",
              "      height: 32px;\n",
              "      padding: 0 0 0 0;\n",
              "      width: 32px;\n",
              "    }\n",
              "\n",
              "    .colab-df-convert:hover {\n",
              "      background-color: #E2EBFA;\n",
              "      box-shadow: 0px 1px 2px rgba(60, 64, 67, 0.3), 0px 1px 3px 1px rgba(60, 64, 67, 0.15);\n",
              "      fill: #174EA6;\n",
              "    }\n",
              "\n",
              "    [theme=dark] .colab-df-convert {\n",
              "      background-color: #3B4455;\n",
              "      fill: #D2E3FC;\n",
              "    }\n",
              "\n",
              "    [theme=dark] .colab-df-convert:hover {\n",
              "      background-color: #434B5C;\n",
              "      box-shadow: 0px 1px 3px 1px rgba(0, 0, 0, 0.15);\n",
              "      filter: drop-shadow(0px 1px 2px rgba(0, 0, 0, 0.3));\n",
              "      fill: #FFFFFF;\n",
              "    }\n",
              "  </style>\n",
              "\n",
              "      <script>\n",
              "        const buttonEl =\n",
              "          document.querySelector('#df-b99c74ed-7c63-4862-a8bc-07a7fc6efeb3 button.colab-df-convert');\n",
              "        buttonEl.style.display =\n",
              "          google.colab.kernel.accessAllowed ? 'block' : 'none';\n",
              "\n",
              "        async function convertToInteractive(key) {\n",
              "          const element = document.querySelector('#df-b99c74ed-7c63-4862-a8bc-07a7fc6efeb3');\n",
              "          const dataTable =\n",
              "            await google.colab.kernel.invokeFunction('convertToInteractive',\n",
              "                                                     [key], {});\n",
              "          if (!dataTable) return;\n",
              "\n",
              "          const docLinkHtml = 'Like what you see? Visit the ' +\n",
              "            '<a target=\"_blank\" href=https://colab.research.google.com/notebooks/data_table.ipynb>data table notebook</a>'\n",
              "            + ' to learn more about interactive tables.';\n",
              "          element.innerHTML = '';\n",
              "          dataTable['output_type'] = 'display_data';\n",
              "          await google.colab.output.renderOutput(dataTable, element);\n",
              "          const docLink = document.createElement('div');\n",
              "          docLink.innerHTML = docLinkHtml;\n",
              "          element.appendChild(docLink);\n",
              "        }\n",
              "      </script>\n",
              "    </div>\n",
              "  </div>\n",
              "  "
            ]
          },
          "metadata": {},
          "execution_count": 137
        }
      ]
    },
    {
      "cell_type": "code",
      "source": [
        "news_data.tail()"
      ],
      "metadata": {
        "colab": {
          "base_uri": "https://localhost:8080/",
          "height": 563
        },
        "id": "zmu8FulT9mYC",
        "outputId": "778ef46a-dc6a-4d57-8914-dc3c265ba0b1"
      },
      "execution_count": 138,
      "outputs": [
        {
          "output_type": "execute_result",
          "data": {
            "text/plain": [
              "                                                 Title  \\\n",
              "144  Hatchet-wielding attacker subdued during wild ...   \n",
              "149  Grand Canyon National Park planning for a $208...   \n",
              "150  Only big whales can lunge-feed successfully, a...   \n",
              "151  Strong earthquake kills at least 14 in Ecuador...   \n",
              "152  London partygoers rave to AI-generated beats i...   \n",
              "\n",
              "                                                  Link  \\\n",
              "144  https://www.foxnews.com/media/hatchet-wielding...   \n",
              "149  https://www.foxnews.com/us/grand-canyon-nation...   \n",
              "150  https://www.foxnews.com/science/only-big-whale...   \n",
              "151  https://www.foxnews.com/world/strong-earthquak...   \n",
              "152  https://www.foxnews.com/entertainment/london-p...   \n",
              "\n",
              "                                                Corpus       category author  \\\n",
              "144  good samaritan helped stop gym attacker good s...          media          \n",
              "149  15 check clicking foxnews.com.a 208 million mu...             us          \n",
              "150  15 check clicking foxnews.com.as smallest grou...        science          \n",
              "151  turkey earthquake captured dashcam dashcam cap...          world          \n",
              "152  15 check clicking foxnews.com.in front empty d...  entertainment          \n",
              "\n",
              "                    timeanddate sentiment  \n",
              "144   March 17, 2023 1:15pm EDT  positive  \n",
              "149   March 19, 2023 9:00am EDT  positive  \n",
              "150   March 19, 2023 8:00am EDT  positive  \n",
              "151   March 18, 2023 9:59pm EDT  negative  \n",
              "152   March 18, 2023 2:00pm EDT  positive  "
            ],
            "text/html": [
              "\n",
              "  <div id=\"df-34f50f9b-3b04-4701-b0e9-6834a55ae8ab\">\n",
              "    <div class=\"colab-df-container\">\n",
              "      <div>\n",
              "<style scoped>\n",
              "    .dataframe tbody tr th:only-of-type {\n",
              "        vertical-align: middle;\n",
              "    }\n",
              "\n",
              "    .dataframe tbody tr th {\n",
              "        vertical-align: top;\n",
              "    }\n",
              "\n",
              "    .dataframe thead th {\n",
              "        text-align: right;\n",
              "    }\n",
              "</style>\n",
              "<table border=\"1\" class=\"dataframe\">\n",
              "  <thead>\n",
              "    <tr style=\"text-align: right;\">\n",
              "      <th></th>\n",
              "      <th>Title</th>\n",
              "      <th>Link</th>\n",
              "      <th>Corpus</th>\n",
              "      <th>category</th>\n",
              "      <th>author</th>\n",
              "      <th>timeanddate</th>\n",
              "      <th>sentiment</th>\n",
              "    </tr>\n",
              "  </thead>\n",
              "  <tbody>\n",
              "    <tr>\n",
              "      <th>144</th>\n",
              "      <td>Hatchet-wielding attacker subdued during wild ...</td>\n",
              "      <td>https://www.foxnews.com/media/hatchet-wielding...</td>\n",
              "      <td>good samaritan helped stop gym attacker good s...</td>\n",
              "      <td>media</td>\n",
              "      <td></td>\n",
              "      <td>March 17, 2023 1:15pm EDT</td>\n",
              "      <td>positive</td>\n",
              "    </tr>\n",
              "    <tr>\n",
              "      <th>149</th>\n",
              "      <td>Grand Canyon National Park planning for a $208...</td>\n",
              "      <td>https://www.foxnews.com/us/grand-canyon-nation...</td>\n",
              "      <td>15 check clicking foxnews.com.a 208 million mu...</td>\n",
              "      <td>us</td>\n",
              "      <td></td>\n",
              "      <td>March 19, 2023 9:00am EDT</td>\n",
              "      <td>positive</td>\n",
              "    </tr>\n",
              "    <tr>\n",
              "      <th>150</th>\n",
              "      <td>Only big whales can lunge-feed successfully, a...</td>\n",
              "      <td>https://www.foxnews.com/science/only-big-whale...</td>\n",
              "      <td>15 check clicking foxnews.com.as smallest grou...</td>\n",
              "      <td>science</td>\n",
              "      <td></td>\n",
              "      <td>March 19, 2023 8:00am EDT</td>\n",
              "      <td>positive</td>\n",
              "    </tr>\n",
              "    <tr>\n",
              "      <th>151</th>\n",
              "      <td>Strong earthquake kills at least 14 in Ecuador...</td>\n",
              "      <td>https://www.foxnews.com/world/strong-earthquak...</td>\n",
              "      <td>turkey earthquake captured dashcam dashcam cap...</td>\n",
              "      <td>world</td>\n",
              "      <td></td>\n",
              "      <td>March 18, 2023 9:59pm EDT</td>\n",
              "      <td>negative</td>\n",
              "    </tr>\n",
              "    <tr>\n",
              "      <th>152</th>\n",
              "      <td>London partygoers rave to AI-generated beats i...</td>\n",
              "      <td>https://www.foxnews.com/entertainment/london-p...</td>\n",
              "      <td>15 check clicking foxnews.com.in front empty d...</td>\n",
              "      <td>entertainment</td>\n",
              "      <td></td>\n",
              "      <td>March 18, 2023 2:00pm EDT</td>\n",
              "      <td>positive</td>\n",
              "    </tr>\n",
              "  </tbody>\n",
              "</table>\n",
              "</div>\n",
              "      <button class=\"colab-df-convert\" onclick=\"convertToInteractive('df-34f50f9b-3b04-4701-b0e9-6834a55ae8ab')\"\n",
              "              title=\"Convert this dataframe to an interactive table.\"\n",
              "              style=\"display:none;\">\n",
              "        \n",
              "  <svg xmlns=\"http://www.w3.org/2000/svg\" height=\"24px\"viewBox=\"0 0 24 24\"\n",
              "       width=\"24px\">\n",
              "    <path d=\"M0 0h24v24H0V0z\" fill=\"none\"/>\n",
              "    <path d=\"M18.56 5.44l.94 2.06.94-2.06 2.06-.94-2.06-.94-.94-2.06-.94 2.06-2.06.94zm-11 1L8.5 8.5l.94-2.06 2.06-.94-2.06-.94L8.5 2.5l-.94 2.06-2.06.94zm10 10l.94 2.06.94-2.06 2.06-.94-2.06-.94-.94-2.06-.94 2.06-2.06.94z\"/><path d=\"M17.41 7.96l-1.37-1.37c-.4-.4-.92-.59-1.43-.59-.52 0-1.04.2-1.43.59L10.3 9.45l-7.72 7.72c-.78.78-.78 2.05 0 2.83L4 21.41c.39.39.9.59 1.41.59.51 0 1.02-.2 1.41-.59l7.78-7.78 2.81-2.81c.8-.78.8-2.07 0-2.86zM5.41 20L4 18.59l7.72-7.72 1.47 1.35L5.41 20z\"/>\n",
              "  </svg>\n",
              "      </button>\n",
              "      \n",
              "  <style>\n",
              "    .colab-df-container {\n",
              "      display:flex;\n",
              "      flex-wrap:wrap;\n",
              "      gap: 12px;\n",
              "    }\n",
              "\n",
              "    .colab-df-convert {\n",
              "      background-color: #E8F0FE;\n",
              "      border: none;\n",
              "      border-radius: 50%;\n",
              "      cursor: pointer;\n",
              "      display: none;\n",
              "      fill: #1967D2;\n",
              "      height: 32px;\n",
              "      padding: 0 0 0 0;\n",
              "      width: 32px;\n",
              "    }\n",
              "\n",
              "    .colab-df-convert:hover {\n",
              "      background-color: #E2EBFA;\n",
              "      box-shadow: 0px 1px 2px rgba(60, 64, 67, 0.3), 0px 1px 3px 1px rgba(60, 64, 67, 0.15);\n",
              "      fill: #174EA6;\n",
              "    }\n",
              "\n",
              "    [theme=dark] .colab-df-convert {\n",
              "      background-color: #3B4455;\n",
              "      fill: #D2E3FC;\n",
              "    }\n",
              "\n",
              "    [theme=dark] .colab-df-convert:hover {\n",
              "      background-color: #434B5C;\n",
              "      box-shadow: 0px 1px 3px 1px rgba(0, 0, 0, 0.15);\n",
              "      filter: drop-shadow(0px 1px 2px rgba(0, 0, 0, 0.3));\n",
              "      fill: #FFFFFF;\n",
              "    }\n",
              "  </style>\n",
              "\n",
              "      <script>\n",
              "        const buttonEl =\n",
              "          document.querySelector('#df-34f50f9b-3b04-4701-b0e9-6834a55ae8ab button.colab-df-convert');\n",
              "        buttonEl.style.display =\n",
              "          google.colab.kernel.accessAllowed ? 'block' : 'none';\n",
              "\n",
              "        async function convertToInteractive(key) {\n",
              "          const element = document.querySelector('#df-34f50f9b-3b04-4701-b0e9-6834a55ae8ab');\n",
              "          const dataTable =\n",
              "            await google.colab.kernel.invokeFunction('convertToInteractive',\n",
              "                                                     [key], {});\n",
              "          if (!dataTable) return;\n",
              "\n",
              "          const docLinkHtml = 'Like what you see? Visit the ' +\n",
              "            '<a target=\"_blank\" href=https://colab.research.google.com/notebooks/data_table.ipynb>data table notebook</a>'\n",
              "            + ' to learn more about interactive tables.';\n",
              "          element.innerHTML = '';\n",
              "          dataTable['output_type'] = 'display_data';\n",
              "          await google.colab.output.renderOutput(dataTable, element);\n",
              "          const docLink = document.createElement('div');\n",
              "          docLink.innerHTML = docLinkHtml;\n",
              "          element.appendChild(docLink);\n",
              "        }\n",
              "      </script>\n",
              "    </div>\n",
              "  </div>\n",
              "  "
            ]
          },
          "metadata": {},
          "execution_count": 138
        }
      ]
    },
    {
      "cell_type": "markdown",
      "source": [
        "# STEP 10: Visualising news volume w.r.t categories\n",
        "\n",
        "---\n",
        "\n",
        "\n",
        "## Visualize on the basis of news category. For eg: Politics, Science"
      ],
      "metadata": {
        "id": "2HAXh-UbbSKr"
      }
    },
    {
      "cell_type": "code",
      "source": [
        "category_counts = news_data['category'].value_counts()\n",
        "print(category_counts)"
      ],
      "metadata": {
        "id": "hE559_jPRdnd",
        "colab": {
          "base_uri": "https://localhost:8080/"
        },
        "outputId": "f9c1e35c-7d72-4357-ef17-80121941fa4d"
      },
      "execution_count": 219,
      "outputs": [
        {
          "output_type": "stream",
          "name": "stdout",
          "text": [
            "us                  27\n",
            "entertainment       16\n",
            "politics            14\n",
            "media               12\n",
            "world               12\n",
            "lifestyle           11\n",
            "opinion             10\n",
            "sports               9\n",
            "health               8\n",
            "food-drink           4\n",
            "tech                 4\n",
            "personal-finance     3\n",
            "weather-news         2\n",
            "economy              2\n",
            "markets              2\n",
            "technology           1\n",
            "auto                 1\n",
            "retail               1\n",
            "learn                1\n",
            "extreme-weather      1\n",
            "science              1\n",
            "Name: category, dtype: int64\n"
          ]
        }
      ]
    },
    {
      "cell_type": "markdown",
      "source": [
        "### Plotting the news volume with respect to its category"
      ],
      "metadata": {
        "id": "yzYl_JNLyBAV"
      }
    },
    {
      "cell_type": "code",
      "source": [
        "import matplotlib.pyplot as plt\n",
        "category_counts.plot(kind='bar')\n",
        "plt.title(\"No. of News category in foxnews recently\")\n",
        "plt.xlabel(\"category\")\n",
        "plt.ylabel(\"number of news\")\n",
        "desc = f'Chart Analysis \\nThe chart below depicts the information of number of news\\n published recently with respect to its category. Here we can \\nsee that there are maximum news related to \"{category_counts[category_counts == max(category_counts.values)].index[0]}\". There are \\n{max(category_counts.values)} news on this topic.'\n",
        "plt.text(0,35, desc, ha='left', va='baseline', fontsize = \"large\")\n",
        "plt.subplots_adjust(bottom=0)\n",
        "plt.show()"
      ],
      "metadata": {
        "colab": {
          "base_uri": "https://localhost:8080/",
          "height": 521
        },
        "id": "_Hanb4DnRyUd",
        "outputId": "22c63efa-17e7-4506-cd2a-9b2a87e864cf"
      },
      "execution_count": 232,
      "outputs": [
        {
          "output_type": "display_data",
          "data": {
            "text/plain": [
              "<Figure size 432x288 with 1 Axes>"
            ],
            "image/png": "[encoded data removed]"
          },
          "metadata": {
            "needs_background": "light"
          }
        }
      ]
    },
    {
      "cell_type": "markdown",
      "source": [
        "# Sentiment Analysis (Visualization)\n",
        "\n",
        "---\n",
        "\n"
      ],
      "metadata": {
        "id": "OwytEJ8QFCgy"
      }
    },
    {
      "cell_type": "code",
      "source": [
        "sentiment_counts = news_data['sentiment'].value_counts()\n",
        "print(type(sentiment_counts))"
      ],
      "metadata": {
        "id": "ulXaQPiYbMgQ",
        "colab": {
          "base_uri": "https://localhost:8080/"
        },
        "outputId": "71e007b8-9db4-46ad-fe88-9646c189dd08"
      },
      "execution_count": 180,
      "outputs": [
        {
          "output_type": "stream",
          "name": "stdout",
          "text": [
            "<class 'pandas.core.series.Series'>\n"
          ]
        }
      ]
    },
    {
      "cell_type": "markdown",
      "source": [
        "## Pie Chart Analysis\n",
        "\n",
        "---\n",
        "\n",
        "\n",
        "### The pie chart below shows that more of **positive** news have been published than **negative** news recently in *foxnews.com*."
      ],
      "metadata": {
        "id": "d7ALDjp2OS38"
      }
    },
    {
      "cell_type": "code",
      "source": [
        "plt.pie(sentiment_counts.values, labels=sentiment_counts.index, autopct='%1.1f%%')\n",
        "plt.title(\"Percentage of positive and negative news published recently\")\n",
        "desc = f'Chart Analysis \\nThe pie Chart show the percentage of Positive and Negative sentimented \\nnews published in Foxnews.com recently. This analysis says that the news \\nhave {max(sentiment_counts.values)} of {sentiment_counts[sentiment_counts == max(sentiment_counts.values)].index[0]} news. This means more {sentiment_counts[sentiment_counts == max(sentiment_counts.values)].index[0]} news has been published \\nrecently in foxnews.com. This means it is {\"good\" if sentiment_counts[sentiment_counts == max(sentiment_counts.values)].index[0] == \"positive\" else \"bad\"}.'\n",
        "plt.text(-1.5,1.5, desc, ha='left', va='baseline', fontsize = \"large\")\n",
        "plt.subplots_adjust(bottom=-0.2)\n",
        "plt.show()"
      ],
      "metadata": {
        "colab": {
          "base_uri": "https://localhost:8080/",
          "height": 443
        },
        "id": "tO-5u5UebYS_",
        "outputId": "dfa3c43e-2f49-4698-f709-c0875e060b9a"
      },
      "execution_count": 214,
      "outputs": [
        {
          "output_type": "display_data",
          "data": {
            "text/plain": [
              "<Figure size 432x288 with 1 Axes>"
            ],
            "image/png": "[encoded data removed]"
          },
          "metadata": {}
        }
      ]
    },
    {
      "cell_type": "markdown",
      "source": [
        "# Sentiment + news category Volume Relation\n",
        "\n",
        "---\n",
        "\n",
        "\n",
        "### Lets analyse which category is likely to have more positive or negative news recently"
      ],
      "metadata": {
        "id": "rAckPsoRMwds"
      }
    },
    {
      "cell_type": "code",
      "source": [
        "# grouping the data w.r.t category and sentiment and resetting the index\n",
        "category_counts = news_data.groupby(['category', 'sentiment']).size().reset_index(name = 'count')\n",
        "print(category_counts)"
      ],
      "metadata": {
        "id": "IBlExLda-Voc"
      },
      "execution_count": null,
      "outputs": []
    },
    {
      "cell_type": "code",
      "source": [
        "# pivoting the table of category_counts and making category and index and sentiment as column values\n",
        "'''\n",
        "for eg.\n",
        "Sentiments    |   Positive   |  Negative   |\n",
        "Category      |              |             |\n",
        "--------------------------------------------\n",
        "US            |      20      |    7        |\n",
        "Entertainment |      16      |    Nan      |\n",
        "......        | ............ |............ |\n",
        "'''\n",
        "\n",
        "pivot_table = category_counts.pivot(index='category', columns='sentiment', values='count')"
      ],
      "metadata": {
        "id": "KdEjAfGuFkli"
      },
      "execution_count": 148,
      "outputs": []
    },
    {
      "cell_type": "markdown",
      "source": [
        "### Plotting the chart that shows the sentiments of categorical news"
      ],
      "metadata": {
        "id": "AEIbmCXZwAfW"
      }
    },
    {
      "cell_type": "code",
      "source": [
        "pivot_table.plot(kind='bar', stacked=True)\n",
        "\n",
        "plt.xlabel('Category')\n",
        "plt.ylabel('Sentiment Count')\n",
        "plt.title('Sentiment Analysis by Category')\n",
        "desc = f'Chart Analysis \\nThe chart below shows the negative and positive sentimental news \\nwith respect to the news categories. Here we can see that which \\ncategory of news consists of what volume of positive or nergative sentiments.'\n",
        "plt.text(-1.5,35, desc, ha='left', va='baseline', fontsize = \"large\")\n",
        "plt.subplots_adjust(bottom=-0.2)\n",
        "plt.show()"
      ],
      "metadata": {
        "colab": {
          "base_uri": "https://localhost:8080/",
          "height": 577
        },
        "id": "IbbT8mfbHFbZ",
        "outputId": "7630409a-6311-421f-d454-16d4fb5dff55"
      },
      "execution_count": 212,
      "outputs": [
        {
          "output_type": "display_data",
          "data": {
            "text/plain": [
              "<Figure size 432x288 with 1 Axes>"
            ],
            "image/png": "[encoded data removed]"
          },
          "metadata": {
            "needs_background": "light"
          }
        }
      ]
    },
    {
      "cell_type": "markdown",
      "source": [
        "# Finding most repeated words\n",
        "#### Import dependencies for frequency"
      ],
      "metadata": {
        "id": "XgPMDyQv63gx"
      }
    },
    {
      "cell_type": "code",
      "source": [
        "from nltk.probability import FreqDist"
      ],
      "metadata": {
        "id": "bDQgMB4g69M-"
      },
      "execution_count": 130,
      "outputs": []
    },
    {
      "cell_type": "markdown",
      "source": [
        "### Merging the Corpus of all news and its title into one string, tokenizing and using FreqDist to find the most used words in the news publishes recently"
      ],
      "metadata": {
        "id": "l-ctcYvuwISE"
      }
    },
    {
      "cell_type": "code",
      "source": [
        "corpus = \" \".join(news_data['Title']) + \" \".join(news_data['Corpus'])\n",
        "tokenized_words = word_tokenize(corpus)\n",
        "frequency = FreqDist(tokenized_words)\n",
        "sorted_frequency = sorted(frequency.items(), key=lambda x: x[1], reverse=True)\n",
        "top_words = [word[0] for word in sorted_frequency[:10]]"
      ],
      "metadata": {
        "id": "IGAGWj2g7Itw"
      },
      "execution_count": 150,
      "outputs": []
    },
    {
      "cell_type": "markdown",
      "source": [
        "### Getting the frequency corresponding to *top_words*."
      ],
      "metadata": {
        "id": "NvFkw7H1xxpo"
      }
    },
    {
      "cell_type": "code",
      "source": [
        "top_freq = [word[1] for word in sorted_frequency[:10]]"
      ],
      "metadata": {
        "id": "zhwX1d5T8L_N"
      },
      "execution_count": 153,
      "outputs": []
    },
    {
      "cell_type": "markdown",
      "source": [
        "### Plotting the chart of Most Frequent Words used in News Corpus"
      ],
      "metadata": {
        "id": "It7kwMkJxi_h"
      }
    },
    {
      "cell_type": "code",
      "source": [
        "plt.figure(figsize=(10, 5))\n",
        "colors = plt.cm.tab10(range(len(top_words)))\n",
        "plt.bar(top_words, top_freq, color = colors)\n",
        "plt.title('Top 10 Most Frequent Words in News Corpus')\n",
        "plt.xlabel('Words')\n",
        "plt.ylabel('Frequency')\n",
        "desc = f'Chart Analysis \\nThis bar chart shows the top 10 most frequent words in a news corpus\\ncompiled from Fox News articles. The words are sorted by frequency\\nin descending order, and each bar is colored differently for better\\nvisibility. This Bar graph below shows that \"{top_words[0]}\" is the most \\nrepeated word with the frequency of {top_freq[0]}'\n",
        "plt.text(0, max(top_freq) + 50, desc, ha='left', va='center', fontsize = \"large\")\n",
        "plt.subplots_adjust(bottom=-0.2)\n",
        "plt.show()"
      ],
      "metadata": {
        "colab": {
          "base_uri": "https://localhost:8080/",
          "height": 591
        },
        "id": "uT9sBp5j_krR",
        "outputId": "7d00e2bb-dec6-4bc9-ad86-0b8f460ff232"
      },
      "execution_count": 213,
      "outputs": [
        {
          "output_type": "display_data",
          "data": {
            "text/plain": [
              "<Figure size 720x360 with 1 Axes>"
            ],
            "image/png": "[encoded data removed]"
          },
          "metadata": {
            "needs_background": "light"
          }
        }
      ]
    },
    {
      "cell_type": "markdown",
      "source": [
        "# Saving the DataFrame into a CSV File"
      ],
      "metadata": {
        "id": "wBWe6FNAxojs"
      }
    },
    {
      "cell_type": "code",
      "source": [
        "news_data.to_csv('fox_news.csv', index = 'False')"
      ],
      "metadata": {
        "id": "DCPIqDefC3-U"
      },
      "execution_count": 93,
      "outputs": []
    }
  ]
}