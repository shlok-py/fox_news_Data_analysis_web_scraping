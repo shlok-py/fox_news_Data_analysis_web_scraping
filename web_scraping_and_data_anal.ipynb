{
  "nbformat": 4,
  "nbformat_minor": 0,
  "metadata": {
    "colab": {
      "provenance": [],
      "authorship_tag": "ABX9TyN84FxtVEghJDFx9zBWCmcU",
      "include_colab_link": true
    },
    "kernelspec": {
      "name": "python3",
      "display_name": "Python 3"
    },
    "language_info": {
      "name": "python"
    }
  },
  "cells": [
    {
      "cell_type": "markdown",
      "metadata": {
        "id": "view-in-github",
        "colab_type": "text"
      },
      "source": [
        "<a href=\"https://colab.research.google.com/github/shlok-py/fox_news_Data_analysis_web_scraping/blob/main/web_scraping_and_data_anal.ipynb\" target=\"_parent\"><img src=\"https://colab.research.google.com/assets/colab-badge.svg\" alt=\"Open In Colab\"/></a>"
      ]
    },
    {
      "cell_type": "markdown",
      "source": [
        "In this program \"*web_Scraping_and_data_anal.py*\" I scraped out some key data from foxnews.com and did data analysis on its news, sentimental analysis, frequency analysis and many more.\n",
        "Now, let's begin this.\n",
        "\n",
        "# STEP 1. Importing Dependencies\n"
      ],
      "metadata": {
        "id": "Ys6bAkkfYpZD"
      }
    },
    {
      "cell_type": "code",
      "source": [
        "from bs4 import BeautifulSoup\n",
        "import requests"
      ],
      "metadata": {
        "id": "jYiTqoZLZ0u9"
      },
      "execution_count": 1,
      "outputs": []
    },
    {
      "cell_type": "markdown",
      "source": [
        "## 1.2 Giving the static URL \n",
        "And using request response to get the html"
      ],
      "metadata": {
        "id": "hsKc3N88ZhgX"
      }
    },
    {
      "cell_type": "code",
      "source": [
        "url = \"https://www.foxnews.com/\"\n",
        "response = requests.get(url).text"
      ],
      "metadata": {
        "id": "MH1N77ISwvLi"
      },
      "execution_count": 2,
      "outputs": []
    },
    {
      "cell_type": "markdown",
      "source": [
        "## 1.3 Parsing response using html.parser"
      ],
      "metadata": {
        "id": "woFui6yQZ1aK"
      }
    },
    {
      "cell_type": "code",
      "source": [
        "soup = BeautifulSoup(response, 'html.parser')"
      ],
      "metadata": {
        "id": "OvA7SNkuaxIF"
      },
      "execution_count": 3,
      "outputs": []
    },
    {
      "cell_type": "markdown",
      "source": [
        "## 1.4 checking if the code works using soup.title"
      ],
      "metadata": {
        "id": "BflDPM0JaTyO"
      }
    },
    {
      "cell_type": "code",
      "source": [
        "soup.title"
      ],
      "metadata": {
        "id": "LH4fR5sMa_Vn",
        "colab": {
          "base_uri": "https://localhost:8080/"
        },
        "outputId": "b1e8274b-162e-4785-dc21-f7451629c039"
      },
      "execution_count": 4,
      "outputs": [
        {
          "output_type": "execute_result",
          "data": {
            "text/plain": [
              "<title>Fox News - Breaking News Updates | Latest News Headlines | Photos &amp; News Videos</title>"
            ]
          },
          "metadata": {},
          "execution_count": 4
        }
      ]
    },
    {
      "cell_type": "markdown",
      "source": [
        "#STEP 2. Scrape the title from the homepage from foxnews.com"
      ],
      "metadata": {
        "id": "OYHTiunVaaZ2"
      }
    },
    {
      "cell_type": "code",
      "source": [
        "#scrape the title\n",
        "titles = soup.find_all('h3', class_= 'title')\n",
        "news_titles = []\n",
        "for title in titles:\n",
        "    anchor_tag = title.find('a')\n",
        "    if anchor_tag == None:\n",
        "      news_titles.append(None)\n",
        "      continue\n",
        "    print(anchor_tag.text.strip())\n",
        "    news_titles.append(anchor_tag.text.strip())"
      ],
      "metadata": {
        "id": "le73zpCSw-B3"
      },
      "execution_count": null,
      "outputs": []
    },
    {
      "cell_type": "markdown",
      "source": [
        "#STEP 3. Scrape the URL from the homepage from foxnews.com"
      ],
      "metadata": {
        "id": "EydUcDSLakFT"
      }
    },
    {
      "cell_type": "code",
      "source": [
        "#scrpe the url\n",
        "urls = []\n",
        "for link in titles:\n",
        "  url = link.find('a')\n",
        "  if url == None:\n",
        "    urls.append(None)\n",
        "    continue\n",
        "  urls.append(url['href'])\n",
        "for i in range(len(urls)):\n",
        "  if urls[i]!=None:\n",
        "    if not urls[i].startswith('https:'):\n",
        "      urls[i] = 'https:' + urls[i]\n",
        "urls"
      ],
      "metadata": {
        "id": "6CxZQDWk7MS0"
      },
      "execution_count": null,
      "outputs": []
    },
    {
      "cell_type": "markdown",
      "source": [
        "# STEP 4: Scrape the news Corpus"
      ],
      "metadata": {
        "id": "zg3LjZveapn1"
      }
    },
    {
      "cell_type": "code",
      "source": [
        "#scrape the news corpus\n",
        "art_text = []\n",
        "for url in urls:\n",
        "  try:\n",
        "    response = requests.get(url).text\n",
        "    f_texts = BeautifulSoup(response, 'html.parser')\n",
        "    main_text = f_texts.find('div', class_='article-body')\n",
        "    if main_text == None:\n",
        "      art_text.append(None)\n",
        "      continue\n",
        "    article_text = main_text.get_text()\n",
        "    print(article_text.strip())\n",
        "    art_text.append(article_text.strip())\n",
        "  except requests.exceptions.RequestException as e:\n",
        "    # Handle the exception (e.g. log an error message, skip the URL, etc.)\n",
        "    print(f'Error while requesting {url}: {e}')\n",
        "    art_text.append(None)\n",
        "    continue\n",
        "len(art_text)"
      ],
      "metadata": {
        "id": "r1gnlj3_7OAO"
      },
      "execution_count": null,
      "outputs": []
    },
    {
      "cell_type": "markdown",
      "source": [
        "# STEP 5: Scrape the news category"
      ],
      "metadata": {
        "id": "eaCh3dYBa9Qg"
      }
    },
    {
      "cell_type": "code",
      "source": [
        "#find the news category\n",
        "from urllib.parse import urlparse\n",
        "news_cat = []\n",
        "for url in urls:\n",
        "  url_parts = urlparse(url)\n",
        "  print(url)\n",
        "  if url == None:\n",
        "    news_cat.append(None)\n",
        "    continue\n",
        "  path_parts = url_parts.path.split('/')\n",
        "  category = path_parts[1] if len(path_parts) > 1 else ' '\n",
        "  news_cat.append(category)"
      ],
      "metadata": {
        "id": "v3VplfEcMac7"
      },
      "execution_count": null,
      "outputs": []
    },
    {
      "cell_type": "markdown",
      "source": [
        "# STEP 6: Scrape Authors Name"
      ],
      "metadata": {
        "id": "LaBO8HYIbEJe"
      }
    },
    {
      "cell_type": "code",
      "source": [
        "#scraping the authors\n",
        "author_names = []\n",
        "for url in urls:\n",
        "  if url == None:\n",
        "    author_names.append(None)\n",
        "    continue\n",
        "  response = requests.get(url)\n",
        "\n",
        "  soup = BeautifulSoup(response.text, 'html.parser')\n",
        "\n",
        "  # Find the element containing the author name\n",
        "  author_element = soup.find('a', class_='author-byline')\n",
        "  if author_element:\n",
        "      # Extract the author name from the element\n",
        "      author_name = author_element.text.strip()\n",
        "      author_names.append(author_name)\n",
        "  else:\n",
        "      # If the author element is not found, set the author name to an empty string\n",
        "      author_name = ''\n",
        "      author_names.append(author_name)"
      ],
      "metadata": {
        "id": "97ZJR_O1OudW"
      },
      "execution_count": 9,
      "outputs": []
    },
    {
      "cell_type": "markdown",
      "source": [
        "# STEP 7: Scrape date and time"
      ],
      "metadata": {
        "id": "-eESwpFuNc8x"
      }
    },
    {
      "cell_type": "code",
      "source": [
        "# Scrape the time and date\n",
        "time = []\n",
        "for url in urls:\n",
        "  if url == None:\n",
        "    time.append(None)\n",
        "    continue\n",
        "  response = requests.get(url)\n",
        "  soup = BeautifulSoup(response.text, 'html.parser')\n",
        "  news_dates = soup.find('time')\n",
        "  if news_dates == None:\n",
        "    time.append(None)\n",
        "    continue\n",
        "  time.append(news_dates.get_text())\n",
        "print(news_dates.get_text()[:-3])\n"
      ],
      "metadata": {
        "colab": {
          "base_uri": "https://localhost:8080/"
        },
        "id": "v90uSXiJbr-2",
        "outputId": "ed5402b5-401c-480d-9018-ffd025a01650"
      },
      "execution_count": 53,
      "outputs": [
        {
          "output_type": "stream",
          "name": "stdout",
          "text": [
            " March 18, 2023 2:00pm \n"
          ]
        }
      ]
    },
    {
      "cell_type": "code",
      "source": [
        "time"
      ],
      "metadata": {
        "id": "EZr7mbGhDAPl"
      },
      "execution_count": null,
      "outputs": []
    },
    {
      "cell_type": "markdown",
      "source": [
        "# STEP 8: Convert everything into pandas DataFrame"
      ],
      "metadata": {
        "id": "vYDHwbyzbIW0"
      }
    },
    {
      "cell_type": "code",
      "source": [
        "import pandas as pd\n",
        "news_data = pd.DataFrame({\n",
        "    \"Title\": news_titles,\n",
        "    \"Link\": urls,\n",
        "    \"Corpus\": art_text,\n",
        "    \"category\": news_cat,\n",
        "    \"author\": author_names,\n",
        "    \"timeanddate\": time,\n",
        "})\n",
        "news_data.dropna(how='any', inplace=True)"
      ],
      "metadata": {
        "id": "W1BgaPxf-GJj"
      },
      "execution_count": 55,
      "outputs": []
    },
    {
      "cell_type": "markdown",
      "source": [
        "# STEP 9: Sentimental Analysis\n",
        "### download nltk dependencies"
      ],
      "metadata": {
        "id": "-GaJHFxPdfD3"
      }
    },
    {
      "cell_type": "code",
      "source": [
        "import nltk\n",
        "from nltk.corpus import stopwords\n",
        "from nltk.tokenize import word_tokenize\n",
        "\n",
        "# Download stop words\n",
        "nltk.download('stopwords')"
      ],
      "metadata": {
        "id": "NPocVa4bR313",
        "colab": {
          "base_uri": "https://localhost:8080/"
        },
        "outputId": "fb831e34-3f99-4bfc-c62d-8dfa41f2182b"
      },
      "execution_count": 38,
      "outputs": [
        {
          "output_type": "stream",
          "name": "stderr",
          "text": [
            "[nltk_data] Downloading package stopwords to /root/nltk_data...\n",
            "[nltk_data]   Package stopwords is already up-to-date!\n"
          ]
        },
        {
          "output_type": "execute_result",
          "data": {
            "text/plain": [
              "True"
            ]
          },
          "metadata": {},
          "execution_count": 38
        }
      ]
    },
    {
      "cell_type": "code",
      "source": [
        "import nltk\n",
        "nltk.download('punkt')"
      ],
      "metadata": {
        "colab": {
          "base_uri": "https://localhost:8080/"
        },
        "id": "KSSHIT1EbQEP",
        "outputId": "6b1e120e-1241-407d-faa6-eced28b208ed"
      },
      "execution_count": 39,
      "outputs": [
        {
          "output_type": "stream",
          "name": "stderr",
          "text": [
            "[nltk_data] Downloading package punkt to /root/nltk_data...\n",
            "[nltk_data]   Package punkt is already up-to-date!\n"
          ]
        },
        {
          "output_type": "execute_result",
          "data": {
            "text/plain": [
              "True"
            ]
          },
          "metadata": {},
          "execution_count": 39
        }
      ]
    },
    {
      "cell_type": "markdown",
      "source": [
        "## 9.1 Remove Stopwords and uneccessary words from the corpus"
      ],
      "metadata": {
        "id": "5Xx4CsNvNyMM"
      }
    },
    {
      "cell_type": "code",
      "source": [
        "# Define function to remove stop words\n",
        "stop_words = set(stopwords.words('english'))\n",
        "stop_words.update(['close', 2, ':', 3, 'video', 'fox news', 'flash', 'top', 'headlines'])\n",
        "def remove_stopwords(text):\n",
        "    if text != None:\n",
        "      tokens = word_tokenize(text.lower())\n",
        "      filtered_tokens = [word for word in tokens if word not in stop_words]\n",
        "      return ' '.join(filtered_tokens)\n",
        "\n",
        "# Apply function to 'corpus' column\n",
        "news_data['Corpus'] = news_data['Corpus'].apply(remove_stopwords)"
      ],
      "metadata": {
        "id": "fd7PlqBcawSn"
      },
      "execution_count": 56,
      "outputs": []
    },
    {
      "cell_type": "markdown",
      "source": [
        "### See the new Corpus"
      ],
      "metadata": {
        "id": "c1-tMY6lN12y"
      }
    },
    {
      "cell_type": "code",
      "source": [
        "news_data[\"Corpus\"]"
      ],
      "metadata": {
        "colab": {
          "base_uri": "https://localhost:8080/"
        },
        "id": "VAk4sF0QdnCf",
        "outputId": "9aca993a-c5cd-4f1b-ec85-85a0aa983e86"
      },
      "execution_count": 57,
      "outputs": [
        {
          "output_type": "execute_result",
          "data": {
            "text/plain": [
              "0      world cancer day cancer survivor 's story brea...\n",
              "1      washington homeowner claims squatters took pro...\n",
              "2      indoctrination schools 'needs stop ' says scho...\n",
              "3      fox news entertainment week fox news entertain...\n",
              "4      woman quits job take care husband like 1950s h...\n",
              "                             ...                        \n",
              "144    good samaritan helped stop gym attacker good s...\n",
              "149    fox news march 15 fox news . check 's clicking...\n",
              "150    fox news march 15 fox news . check 's clicking...\n",
              "151    turkey earthquake captured dashcam dashcam cap...\n",
              "152    fox news march 15 fox news . check 's clicking...\n",
              "Name: Corpus, Length: 143, dtype: object"
            ]
          },
          "metadata": {},
          "execution_count": 57
        }
      ]
    },
    {
      "cell_type": "markdown",
      "source": [
        "## 9.2 Sentiment Analysis\n",
        "### Positive Negative or Neutral"
      ],
      "metadata": {
        "id": "NL2nvsWLfpcv"
      }
    },
    {
      "cell_type": "code",
      "source": [
        "from textblob import TextBlob\n",
        "def get_sentiment(text):\n",
        "    blob = TextBlob(text)\n",
        "    sentiment_score = blob.sentiment.polarity\n",
        "    if sentiment_score > 0:\n",
        "        return 'positive'\n",
        "    elif sentiment_score < 0:\n",
        "        return 'negative'\n",
        "    else:\n",
        "        return 'neutral'\n",
        "news_data['sentiment'] = news_data['Corpus'].apply(get_sentiment)"
      ],
      "metadata": {
        "id": "SCJZBjlZfrlR"
      },
      "execution_count": 58,
      "outputs": []
    },
    {
      "cell_type": "code",
      "source": [
        "news_data.head()"
      ],
      "metadata": {
        "colab": {
          "base_uri": "https://localhost:8080/",
          "height": 458
        },
        "id": "DXk7FPkTgNN3",
        "outputId": "b3d9d78d-5411-48e7-f5ff-664cf5ee926d"
      },
      "execution_count": 59,
      "outputs": [
        {
          "output_type": "execute_result",
          "data": {
            "text/plain": [
              "                                               Title  \\\n",
              "0  Pentagon study shows concerning health diagnos...   \n",
              "1  Woman desperately tries to reclaim mom's home ...   \n",
              "2  Anti-capitalist teacher promotes anarchy, stud...   \n",
              "3  Ben Affleck reveals who Michael Jordan request...   \n",
              "4  'Tradwives' slam critics who call their viral ...   \n",
              "\n",
              "                                                Link  \\\n",
              "0  https://www.foxnews.com/health/military-pilots...   \n",
              "1  https://www.foxnews.com/us/chicago-family-figh...   \n",
              "2  https://www.foxnews.com/media/anti-capitalist-...   \n",
              "3  https://www.foxnews.com/entertainment/ben-affl...   \n",
              "4  https://www.foxnews.com/lifestyle/tradwives-pu...   \n",
              "\n",
              "                                              Corpus       category author  \\\n",
              "0  world cancer day cancer survivor 's story brea...         health          \n",
              "1  washington homeowner claims squatters took pro...             us          \n",
              "2  indoctrination schools 'needs stop ' says scho...          media          \n",
              "3  fox news entertainment week fox news entertain...  entertainment          \n",
              "4  woman quits job take care husband like 1950s h...      lifestyle          \n",
              "\n",
              "                   timeanddate sentiment  \n",
              "0   March 19, 2023 12:46pm EDT  positive  \n",
              "1   March 19, 2023 10:21am EDT  positive  \n",
              "2    March 19, 2023 8:00am EDT  positive  \n",
              "3   March 19, 2023 11:44am EDT  positive  \n",
              "4   March 19, 2023 10:42am EDT  positive  "
            ],
            "text/html": [
              "\n",
              "  <div id=\"df-ce83c83d-1b08-4e8a-b517-563850be9906\">\n",
              "    <div class=\"colab-df-container\">\n",
              "      <div>\n",
              "<style scoped>\n",
              "    .dataframe tbody tr th:only-of-type {\n",
              "        vertical-align: middle;\n",
              "    }\n",
              "\n",
              "    .dataframe tbody tr th {\n",
              "        vertical-align: top;\n",
              "    }\n",
              "\n",
              "    .dataframe thead th {\n",
              "        text-align: right;\n",
              "    }\n",
              "</style>\n",
              "<table border=\"1\" class=\"dataframe\">\n",
              "  <thead>\n",
              "    <tr style=\"text-align: right;\">\n",
              "      <th></th>\n",
              "      <th>Title</th>\n",
              "      <th>Link</th>\n",
              "      <th>Corpus</th>\n",
              "      <th>category</th>\n",
              "      <th>author</th>\n",
              "      <th>timeanddate</th>\n",
              "      <th>sentiment</th>\n",
              "    </tr>\n",
              "  </thead>\n",
              "  <tbody>\n",
              "    <tr>\n",
              "      <th>0</th>\n",
              "      <td>Pentagon study shows concerning health diagnos...</td>\n",
              "      <td>https://www.foxnews.com/health/military-pilots...</td>\n",
              "      <td>world cancer day cancer survivor 's story brea...</td>\n",
              "      <td>health</td>\n",
              "      <td></td>\n",
              "      <td>March 19, 2023 12:46pm EDT</td>\n",
              "      <td>positive</td>\n",
              "    </tr>\n",
              "    <tr>\n",
              "      <th>1</th>\n",
              "      <td>Woman desperately tries to reclaim mom's home ...</td>\n",
              "      <td>https://www.foxnews.com/us/chicago-family-figh...</td>\n",
              "      <td>washington homeowner claims squatters took pro...</td>\n",
              "      <td>us</td>\n",
              "      <td></td>\n",
              "      <td>March 19, 2023 10:21am EDT</td>\n",
              "      <td>positive</td>\n",
              "    </tr>\n",
              "    <tr>\n",
              "      <th>2</th>\n",
              "      <td>Anti-capitalist teacher promotes anarchy, stud...</td>\n",
              "      <td>https://www.foxnews.com/media/anti-capitalist-...</td>\n",
              "      <td>indoctrination schools 'needs stop ' says scho...</td>\n",
              "      <td>media</td>\n",
              "      <td></td>\n",
              "      <td>March 19, 2023 8:00am EDT</td>\n",
              "      <td>positive</td>\n",
              "    </tr>\n",
              "    <tr>\n",
              "      <th>3</th>\n",
              "      <td>Ben Affleck reveals who Michael Jordan request...</td>\n",
              "      <td>https://www.foxnews.com/entertainment/ben-affl...</td>\n",
              "      <td>fox news entertainment week fox news entertain...</td>\n",
              "      <td>entertainment</td>\n",
              "      <td></td>\n",
              "      <td>March 19, 2023 11:44am EDT</td>\n",
              "      <td>positive</td>\n",
              "    </tr>\n",
              "    <tr>\n",
              "      <th>4</th>\n",
              "      <td>'Tradwives' slam critics who call their viral ...</td>\n",
              "      <td>https://www.foxnews.com/lifestyle/tradwives-pu...</td>\n",
              "      <td>woman quits job take care husband like 1950s h...</td>\n",
              "      <td>lifestyle</td>\n",
              "      <td></td>\n",
              "      <td>March 19, 2023 10:42am EDT</td>\n",
              "      <td>positive</td>\n",
              "    </tr>\n",
              "  </tbody>\n",
              "</table>\n",
              "</div>\n",
              "      <button class=\"colab-df-convert\" onclick=\"convertToInteractive('df-ce83c83d-1b08-4e8a-b517-563850be9906')\"\n",
              "              title=\"Convert this dataframe to an interactive table.\"\n",
              "              style=\"display:none;\">\n",
              "        \n",
              "  <svg xmlns=\"http://www.w3.org/2000/svg\" height=\"24px\"viewBox=\"0 0 24 24\"\n",
              "       width=\"24px\">\n",
              "    <path d=\"M0 0h24v24H0V0z\" fill=\"none\"/>\n",
              "    <path d=\"M18.56 5.44l.94 2.06.94-2.06 2.06-.94-2.06-.94-.94-2.06-.94 2.06-2.06.94zm-11 1L8.5 8.5l.94-2.06 2.06-.94-2.06-.94L8.5 2.5l-.94 2.06-2.06.94zm10 10l.94 2.06.94-2.06 2.06-.94-2.06-.94-.94-2.06-.94 2.06-2.06.94z\"/><path d=\"M17.41 7.96l-1.37-1.37c-.4-.4-.92-.59-1.43-.59-.52 0-1.04.2-1.43.59L10.3 9.45l-7.72 7.72c-.78.78-.78 2.05 0 2.83L4 21.41c.39.39.9.59 1.41.59.51 0 1.02-.2 1.41-.59l7.78-7.78 2.81-2.81c.8-.78.8-2.07 0-2.86zM5.41 20L4 18.59l7.72-7.72 1.47 1.35L5.41 20z\"/>\n",
              "  </svg>\n",
              "      </button>\n",
              "      \n",
              "  <style>\n",
              "    .colab-df-container {\n",
              "      display:flex;\n",
              "      flex-wrap:wrap;\n",
              "      gap: 12px;\n",
              "    }\n",
              "\n",
              "    .colab-df-convert {\n",
              "      background-color: #E8F0FE;\n",
              "      border: none;\n",
              "      border-radius: 50%;\n",
              "      cursor: pointer;\n",
              "      display: none;\n",
              "      fill: #1967D2;\n",
              "      height: 32px;\n",
              "      padding: 0 0 0 0;\n",
              "      width: 32px;\n",
              "    }\n",
              "\n",
              "    .colab-df-convert:hover {\n",
              "      background-color: #E2EBFA;\n",
              "      box-shadow: 0px 1px 2px rgba(60, 64, 67, 0.3), 0px 1px 3px 1px rgba(60, 64, 67, 0.15);\n",
              "      fill: #174EA6;\n",
              "    }\n",
              "\n",
              "    [theme=dark] .colab-df-convert {\n",
              "      background-color: #3B4455;\n",
              "      fill: #D2E3FC;\n",
              "    }\n",
              "\n",
              "    [theme=dark] .colab-df-convert:hover {\n",
              "      background-color: #434B5C;\n",
              "      box-shadow: 0px 1px 3px 1px rgba(0, 0, 0, 0.15);\n",
              "      filter: drop-shadow(0px 1px 2px rgba(0, 0, 0, 0.3));\n",
              "      fill: #FFFFFF;\n",
              "    }\n",
              "  </style>\n",
              "\n",
              "      <script>\n",
              "        const buttonEl =\n",
              "          document.querySelector('#df-ce83c83d-1b08-4e8a-b517-563850be9906 button.colab-df-convert');\n",
              "        buttonEl.style.display =\n",
              "          google.colab.kernel.accessAllowed ? 'block' : 'none';\n",
              "\n",
              "        async function convertToInteractive(key) {\n",
              "          const element = document.querySelector('#df-ce83c83d-1b08-4e8a-b517-563850be9906');\n",
              "          const dataTable =\n",
              "            await google.colab.kernel.invokeFunction('convertToInteractive',\n",
              "                                                     [key], {});\n",
              "          if (!dataTable) return;\n",
              "\n",
              "          const docLinkHtml = 'Like what you see? Visit the ' +\n",
              "            '<a target=\"_blank\" href=https://colab.research.google.com/notebooks/data_table.ipynb>data table notebook</a>'\n",
              "            + ' to learn more about interactive tables.';\n",
              "          element.innerHTML = '';\n",
              "          dataTable['output_type'] = 'display_data';\n",
              "          await google.colab.output.renderOutput(dataTable, element);\n",
              "          const docLink = document.createElement('div');\n",
              "          docLink.innerHTML = docLinkHtml;\n",
              "          element.appendChild(docLink);\n",
              "        }\n",
              "      </script>\n",
              "    </div>\n",
              "  </div>\n",
              "  "
            ]
          },
          "metadata": {},
          "execution_count": 59
        }
      ]
    },
    {
      "cell_type": "code",
      "source": [
        "news_data.tail()"
      ],
      "metadata": {
        "colab": {
          "base_uri": "https://localhost:8080/",
          "height": 528
        },
        "id": "zmu8FulT9mYC",
        "outputId": "d9e4f506-eb41-4611-8f1a-a1af29017745"
      },
      "execution_count": 60,
      "outputs": [
        {
          "output_type": "execute_result",
          "data": {
            "text/plain": [
              "                                                 Title  \\\n",
              "144  Hatchet-wielding attacker subdued during wild ...   \n",
              "149  Grand Canyon National Park planning for a $208...   \n",
              "150  Only big whales can lunge-feed successfully, a...   \n",
              "151  Strong earthquake kills at least 14 in Ecuador...   \n",
              "152  London partygoers rave to AI-generated beats i...   \n",
              "\n",
              "                                                  Link  \\\n",
              "144  https://www.foxnews.com/media/hatchet-wielding...   \n",
              "149  https://www.foxnews.com/us/grand-canyon-nation...   \n",
              "150  https://www.foxnews.com/science/only-big-whale...   \n",
              "151  https://www.foxnews.com/world/strong-earthquak...   \n",
              "152  https://www.foxnews.com/entertainment/london-p...   \n",
              "\n",
              "                                                Corpus       category author  \\\n",
              "144  good samaritan helped stop gym attacker good s...          media          \n",
              "149  fox news march 15 fox news . check 's clicking...             us          \n",
              "150  fox news march 15 fox news . check 's clicking...        science          \n",
              "151  turkey earthquake captured dashcam dashcam cap...          world          \n",
              "152  fox news march 15 fox news . check 's clicking...  entertainment          \n",
              "\n",
              "                    timeanddate sentiment  \n",
              "144   March 17, 2023 1:15pm EDT  positive  \n",
              "149   March 19, 2023 9:00am EDT  positive  \n",
              "150   March 19, 2023 8:00am EDT  positive  \n",
              "151   March 18, 2023 9:59pm EDT  negative  \n",
              "152   March 18, 2023 2:00pm EDT  positive  "
            ],
            "text/html": [
              "\n",
              "  <div id=\"df-1945ff2c-a743-49b3-8474-8f68987e4154\">\n",
              "    <div class=\"colab-df-container\">\n",
              "      <div>\n",
              "<style scoped>\n",
              "    .dataframe tbody tr th:only-of-type {\n",
              "        vertical-align: middle;\n",
              "    }\n",
              "\n",
              "    .dataframe tbody tr th {\n",
              "        vertical-align: top;\n",
              "    }\n",
              "\n",
              "    .dataframe thead th {\n",
              "        text-align: right;\n",
              "    }\n",
              "</style>\n",
              "<table border=\"1\" class=\"dataframe\">\n",
              "  <thead>\n",
              "    <tr style=\"text-align: right;\">\n",
              "      <th></th>\n",
              "      <th>Title</th>\n",
              "      <th>Link</th>\n",
              "      <th>Corpus</th>\n",
              "      <th>category</th>\n",
              "      <th>author</th>\n",
              "      <th>timeanddate</th>\n",
              "      <th>sentiment</th>\n",
              "    </tr>\n",
              "  </thead>\n",
              "  <tbody>\n",
              "    <tr>\n",
              "      <th>144</th>\n",
              "      <td>Hatchet-wielding attacker subdued during wild ...</td>\n",
              "      <td>https://www.foxnews.com/media/hatchet-wielding...</td>\n",
              "      <td>good samaritan helped stop gym attacker good s...</td>\n",
              "      <td>media</td>\n",
              "      <td></td>\n",
              "      <td>March 17, 2023 1:15pm EDT</td>\n",
              "      <td>positive</td>\n",
              "    </tr>\n",
              "    <tr>\n",
              "      <th>149</th>\n",
              "      <td>Grand Canyon National Park planning for a $208...</td>\n",
              "      <td>https://www.foxnews.com/us/grand-canyon-nation...</td>\n",
              "      <td>fox news march 15 fox news . check 's clicking...</td>\n",
              "      <td>us</td>\n",
              "      <td></td>\n",
              "      <td>March 19, 2023 9:00am EDT</td>\n",
              "      <td>positive</td>\n",
              "    </tr>\n",
              "    <tr>\n",
              "      <th>150</th>\n",
              "      <td>Only big whales can lunge-feed successfully, a...</td>\n",
              "      <td>https://www.foxnews.com/science/only-big-whale...</td>\n",
              "      <td>fox news march 15 fox news . check 's clicking...</td>\n",
              "      <td>science</td>\n",
              "      <td></td>\n",
              "      <td>March 19, 2023 8:00am EDT</td>\n",
              "      <td>positive</td>\n",
              "    </tr>\n",
              "    <tr>\n",
              "      <th>151</th>\n",
              "      <td>Strong earthquake kills at least 14 in Ecuador...</td>\n",
              "      <td>https://www.foxnews.com/world/strong-earthquak...</td>\n",
              "      <td>turkey earthquake captured dashcam dashcam cap...</td>\n",
              "      <td>world</td>\n",
              "      <td></td>\n",
              "      <td>March 18, 2023 9:59pm EDT</td>\n",
              "      <td>negative</td>\n",
              "    </tr>\n",
              "    <tr>\n",
              "      <th>152</th>\n",
              "      <td>London partygoers rave to AI-generated beats i...</td>\n",
              "      <td>https://www.foxnews.com/entertainment/london-p...</td>\n",
              "      <td>fox news march 15 fox news . check 's clicking...</td>\n",
              "      <td>entertainment</td>\n",
              "      <td></td>\n",
              "      <td>March 18, 2023 2:00pm EDT</td>\n",
              "      <td>positive</td>\n",
              "    </tr>\n",
              "  </tbody>\n",
              "</table>\n",
              "</div>\n",
              "      <button class=\"colab-df-convert\" onclick=\"convertToInteractive('df-1945ff2c-a743-49b3-8474-8f68987e4154')\"\n",
              "              title=\"Convert this dataframe to an interactive table.\"\n",
              "              style=\"display:none;\">\n",
              "        \n",
              "  <svg xmlns=\"http://www.w3.org/2000/svg\" height=\"24px\"viewBox=\"0 0 24 24\"\n",
              "       width=\"24px\">\n",
              "    <path d=\"M0 0h24v24H0V0z\" fill=\"none\"/>\n",
              "    <path d=\"M18.56 5.44l.94 2.06.94-2.06 2.06-.94-2.06-.94-.94-2.06-.94 2.06-2.06.94zm-11 1L8.5 8.5l.94-2.06 2.06-.94-2.06-.94L8.5 2.5l-.94 2.06-2.06.94zm10 10l.94 2.06.94-2.06 2.06-.94-2.06-.94-.94-2.06-.94 2.06-2.06.94z\"/><path d=\"M17.41 7.96l-1.37-1.37c-.4-.4-.92-.59-1.43-.59-.52 0-1.04.2-1.43.59L10.3 9.45l-7.72 7.72c-.78.78-.78 2.05 0 2.83L4 21.41c.39.39.9.59 1.41.59.51 0 1.02-.2 1.41-.59l7.78-7.78 2.81-2.81c.8-.78.8-2.07 0-2.86zM5.41 20L4 18.59l7.72-7.72 1.47 1.35L5.41 20z\"/>\n",
              "  </svg>\n",
              "      </button>\n",
              "      \n",
              "  <style>\n",
              "    .colab-df-container {\n",
              "      display:flex;\n",
              "      flex-wrap:wrap;\n",
              "      gap: 12px;\n",
              "    }\n",
              "\n",
              "    .colab-df-convert {\n",
              "      background-color: #E8F0FE;\n",
              "      border: none;\n",
              "      border-radius: 50%;\n",
              "      cursor: pointer;\n",
              "      display: none;\n",
              "      fill: #1967D2;\n",
              "      height: 32px;\n",
              "      padding: 0 0 0 0;\n",
              "      width: 32px;\n",
              "    }\n",
              "\n",
              "    .colab-df-convert:hover {\n",
              "      background-color: #E2EBFA;\n",
              "      box-shadow: 0px 1px 2px rgba(60, 64, 67, 0.3), 0px 1px 3px 1px rgba(60, 64, 67, 0.15);\n",
              "      fill: #174EA6;\n",
              "    }\n",
              "\n",
              "    [theme=dark] .colab-df-convert {\n",
              "      background-color: #3B4455;\n",
              "      fill: #D2E3FC;\n",
              "    }\n",
              "\n",
              "    [theme=dark] .colab-df-convert:hover {\n",
              "      background-color: #434B5C;\n",
              "      box-shadow: 0px 1px 3px 1px rgba(0, 0, 0, 0.15);\n",
              "      filter: drop-shadow(0px 1px 2px rgba(0, 0, 0, 0.3));\n",
              "      fill: #FFFFFF;\n",
              "    }\n",
              "  </style>\n",
              "\n",
              "      <script>\n",
              "        const buttonEl =\n",
              "          document.querySelector('#df-1945ff2c-a743-49b3-8474-8f68987e4154 button.colab-df-convert');\n",
              "        buttonEl.style.display =\n",
              "          google.colab.kernel.accessAllowed ? 'block' : 'none';\n",
              "\n",
              "        async function convertToInteractive(key) {\n",
              "          const element = document.querySelector('#df-1945ff2c-a743-49b3-8474-8f68987e4154');\n",
              "          const dataTable =\n",
              "            await google.colab.kernel.invokeFunction('convertToInteractive',\n",
              "                                                     [key], {});\n",
              "          if (!dataTable) return;\n",
              "\n",
              "          const docLinkHtml = 'Like what you see? Visit the ' +\n",
              "            '<a target=\"_blank\" href=https://colab.research.google.com/notebooks/data_table.ipynb>data table notebook</a>'\n",
              "            + ' to learn more about interactive tables.';\n",
              "          element.innerHTML = '';\n",
              "          dataTable['output_type'] = 'display_data';\n",
              "          await google.colab.output.renderOutput(dataTable, element);\n",
              "          const docLink = document.createElement('div');\n",
              "          docLink.innerHTML = docLinkHtml;\n",
              "          element.appendChild(docLink);\n",
              "        }\n",
              "      </script>\n",
              "    </div>\n",
              "  </div>\n",
              "  "
            ]
          },
          "metadata": {},
          "execution_count": 60
        }
      ]
    },
    {
      "cell_type": "code",
      "source": [
        "grouped_Data = news_data.groupby('category')"
      ],
      "metadata": {
        "id": "Tv7kvLWELk_g"
      },
      "execution_count": 22,
      "outputs": []
    },
    {
      "cell_type": "code",
      "source": [
        "counts = grouped_Data['Title'].count()\n",
        "print(counts)"
      ],
      "metadata": {
        "colab": {
          "base_uri": "https://localhost:8080/"
        },
        "id": "Lbcb_7leQkL4",
        "outputId": "11028bf2-a59f-4d12-ffbc-e0a465a48ecf"
      },
      "execution_count": 23,
      "outputs": [
        {
          "output_type": "stream",
          "name": "stdout",
          "text": [
            "category\n",
            "auto                 4\n",
            "earth-space          1\n",
            "economy              1\n",
            "entertainment       16\n",
            "extreme-weather      2\n",
            "food-drink           4\n",
            "health               8\n",
            "lifestyle           10\n",
            "markets              1\n",
            "media               15\n",
            "opinion             11\n",
            "personal-finance     3\n",
            "politics            11\n",
            "retail               2\n",
            "science              1\n",
            "sports              10\n",
            "tech                 5\n",
            "technology           2\n",
            "us                  24\n",
            "weather-news         1\n",
            "world               11\n",
            "Name: Title, dtype: int64\n"
          ]
        }
      ]
    },
    {
      "cell_type": "code",
      "source": [
        "count = counts.tolist()"
      ],
      "metadata": {
        "id": "vYJTqoXMQ2OM"
      },
      "execution_count": 24,
      "outputs": []
    },
    {
      "cell_type": "code",
      "source": [
        "categories = news_data['category'].unique().tolist()"
      ],
      "metadata": {
        "id": "reAKlHjdRDLP"
      },
      "execution_count": 25,
      "outputs": []
    },
    {
      "cell_type": "markdown",
      "source": [
        "# STEP 10: Visualising news volume w.r.t categories\n",
        "## Visualize on the basis of news category. For eg: Politics, Science"
      ],
      "metadata": {
        "id": "2HAXh-UbbSKr"
      }
    },
    {
      "cell_type": "code",
      "source": [
        "category_counts = news_data['category'].value_counts()\n",
        "print(category_counts)"
      ],
      "metadata": {
        "id": "hE559_jPRdnd"
      },
      "execution_count": null,
      "outputs": []
    },
    {
      "cell_type": "code",
      "source": [
        "import matplotlib.pyplot as plt\n",
        "category_counts.plot(kind='bar')\n",
        "plt.title(\"No. of News category in foxnews today\")\n",
        "plt.xlabel(\"category\")\n",
        "plt.ylabel(\"number of news\")\n",
        "plt.show()"
      ],
      "metadata": {
        "colab": {
          "base_uri": "https://localhost:8080/",
          "height": 371
        },
        "id": "_Hanb4DnRyUd",
        "outputId": "bdf2ebb1-f041-466a-e810-4b7e5ba2a165"
      },
      "execution_count": 27,
      "outputs": [
        {
          "output_type": "display_data",
          "data": {
            "text/plain": [
              "<Figure size 432x288 with 1 Axes>"
            ],
            "image/png": "[encoded data removed]"
          },
          "metadata": {
            "needs_background": "light"
          }
        }
      ]
    },
    {
      "cell_type": "markdown",
      "source": [
        "# Graph Analysis"
      ],
      "metadata": {
        "id": "OwytEJ8QFCgy"
      }
    },
    {
      "cell_type": "code",
      "source": [
        "sentiment_counts = news_data['sentiment'].value_counts()\n",
        "print(category_counts)"
      ],
      "metadata": {
        "id": "ulXaQPiYbMgQ"
      },
      "execution_count": null,
      "outputs": []
    },
    {
      "cell_type": "markdown",
      "source": [
        "## The pie below shows that more of **positive** news have been published than **negative** news recently in *foxnews.com*."
      ],
      "metadata": {
        "id": "d7ALDjp2OS38"
      }
    },
    {
      "cell_type": "code",
      "source": [
        "plt.pie(sentiment_counts.values, labels=sentiment_counts.index, autopct='%1.1f%%')\n",
        "\n",
        "plt.title(\"Percentage of positive and negative news published recently\")\n",
        "plt.show()"
      ],
      "metadata": {
        "colab": {
          "base_uri": "https://localhost:8080/",
          "height": 264
        },
        "id": "tO-5u5UebYS_",
        "outputId": "3fba541f-887e-49f5-ee25-ac8bc53b7aaa"
      },
      "execution_count": 84,
      "outputs": [
        {
          "output_type": "display_data",
          "data": {
            "text/plain": [
              "<Figure size 432x288 with 1 Axes>"
            ],
            "image/png": "[encoded data removed]"
          },
          "metadata": {}
        }
      ]
    },
    {
      "cell_type": "markdown",
      "source": [
        "# Category + Sentiment Analysis\n",
        "## Lets analyse which category is likely to have more positive or negative news recently"
      ],
      "metadata": {
        "id": "rAckPsoRMwds"
      }
    },
    {
      "cell_type": "code",
      "source": [
        "category_counts = news_data.groupby(['category', 'sentiment']).size().reset_index(name = 'count')\n",
        "print(category_counts)"
      ],
      "metadata": {
        "id": "IBlExLda-Voc"
      },
      "execution_count": null,
      "outputs": []
    },
    {
      "cell_type": "code",
      "source": [
        "pivot_table = category_counts.pivot(index='category', columns='sentiment', values='count')"
      ],
      "metadata": {
        "id": "KdEjAfGuFkli"
      },
      "execution_count": 80,
      "outputs": []
    },
    {
      "cell_type": "markdown",
      "source": [
        "## The chart below depicts the sentiment and category relation of news corpus. Here we can see that the **weather** category brings most of the bad or negative news where as **market** is going down as it also carries negative news. Besides, Media, Politics, tech, US and world has balanced positive and negative news. We cannot see any neutral news in foxnews.com "
      ],
      "metadata": {
        "id": "8CvHNBc8Ocjg"
      }
    },
    {
      "cell_type": "code",
      "source": [
        "pivot_table.plot(kind='bar', stacked=True)\n",
        "\n",
        "# add labels and a title to the chart\n",
        "plt.xlabel('Category')\n",
        "plt.ylabel('Sentiment Count')\n",
        "plt.title('Sentiment Analysis by Category')\n",
        "\n",
        "plt.show()"
      ],
      "metadata": {
        "colab": {
          "base_uri": "https://localhost:8080/",
          "height": 371
        },
        "id": "IbbT8mfbHFbZ",
        "outputId": "eb182991-4fe6-4e06-c34f-cf3217ae9979"
      },
      "execution_count": 79,
      "outputs": [
        {
          "output_type": "display_data",
          "data": {
            "text/plain": [
              "<Figure size 432x288 with 1 Axes>"
            ],
            "image/png": "[encoded data removed]"
          },
          "metadata": {
            "needs_background": "light"
          }
        }
      ]
    },
    {
      "cell_type": "code",
      "source": [
        "news_data.to_csv('fox_news.csv', index = 'False')"
      ],
      "metadata": {
        "id": "DCPIqDefC3-U"
      },
      "execution_count": 13,
      "outputs": []
    }
  ]
}